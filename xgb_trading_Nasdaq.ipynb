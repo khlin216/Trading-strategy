{
  "nbformat": 4,
  "nbformat_minor": 0,
  "metadata": {
    "colab": {
      "name": "xgb_trading.ipynb",
      "provenance": [],
      "collapsed_sections": [],
      "include_colab_link": true
    },
    "kernelspec": {
      "name": "python3",
      "display_name": "Python 3"
    },
    "accelerator": "GPU"
  },
  "cells": [
    {
      "cell_type": "markdown",
      "metadata": {
        "id": "view-in-github",
        "colab_type": "text"
      },
      "source": [
        "<a href=\"https://colab.research.google.com/github/saritmaitra/Trading-strategy/blob/master/xgb_trading_Nasdaq.ipynb\" target=\"_parent\"><img src=\"https://colab.research.google.com/assets/colab-badge.svg\" alt=\"Open In Colab\"/></a>"
      ]
    },
    {
      "cell_type": "code",
      "metadata": {
        "id": "pc5il8HF_mp-",
        "colab_type": "code",
        "colab": {
          "base_uri": "https://localhost:8080/",
          "height": 70
        },
        "outputId": "bf0ca7ea-2f2e-494e-f830-109c25526392"
      },
      "source": [
        "import pandas  as pd\n",
        "import matplotlib.pyplot as plt\n",
        "import numpy as np\n",
        "%matplotlib inline\n",
        "from sklearn import metrics # for the check the error and accuracy of the model\n",
        "from sklearn.metrics import confusion_matrix, classification_report, r2_score, accuracy_score, r2_score\n",
        "from math import sqrt\n",
        "from xgboost import XGBRegressor\n",
        "import xgboost as xgb\n",
        "from sklearn.model_selection import train_test_split, KFold, StratifiedKFold, cross_val_score, GridSearchCV, cross_validate\n",
        "import warnings\n",
        "import seaborn as sns\n",
        "sns.set()\n",
        "warnings.filterwarnings(\"ignore\")\n",
        "pd.set_option('display.max_rows', 500)\n",
        "pd.set_option('display.max_columns', 500)\n",
        "pd.set_option('display.width', 150)"
      ],
      "execution_count": 1,
      "outputs": [
        {
          "output_type": "stream",
          "text": [
            "/usr/local/lib/python3.6/dist-packages/statsmodels/tools/_testing.py:19: FutureWarning: pandas.util.testing is deprecated. Use the functions in the public API at pandas.testing instead.\n",
            "  import pandas.util.testing as tm\n"
          ],
          "name": "stderr"
        }
      ]
    },
    {
      "cell_type": "code",
      "metadata": {
        "id": "dLf7BTOu_uxU",
        "colab_type": "code",
        "colab": {
          "base_uri": "https://localhost:8080/",
          "height": 168
        },
        "outputId": "e58758d8-00f6-490a-966a-73ed880cb8a8"
      },
      "source": [
        "!pip install pyforest\n",
        "from pyforest import *\n",
        "pd.set_option('display.max_rows', 500)\n",
        "pd.set_option('display.max_columns', 500)\n",
        "pd.set_option('display.width', 150)\n",
        "import pandas_datareader as web\n",
        "import warnings\n",
        "warnings.filterwarnings(\"ignore\")\n",
        "pd.set_option('display.max_rows', 500)\n",
        "pd.set_option('display.max_columns', 500)\n",
        "pd.set_option('display.width', 150)\n",
        "plt.style.use('ggplot')"
      ],
      "execution_count": 4,
      "outputs": [
        {
          "output_type": "stream",
          "text": [
            "Collecting pyforest\n",
            "  Downloading https://files.pythonhosted.org/packages/8f/85/77a9d2d9ff240822039f3dfd7a3b374d0621a0df5feb5d270a2151f6bb6d/pyforest-1.0.3.tar.gz\n",
            "Building wheels for collected packages: pyforest\n",
            "  Building wheel for pyforest (setup.py) ... \u001b[?25l\u001b[?25hdone\n",
            "  Created wheel for pyforest: filename=pyforest-1.0.3-py2.py3-none-any.whl size=13715 sha256=55f95ef2b05e01d7efb6889443d9c323feab072a023ffeec1a26ebf5ecffb8eb\n",
            "  Stored in directory: /root/.cache/pip/wheels/af/0b/39/340a7f15fc8d4ff5ab50847b28789afea04452a9d51b9721b5\n",
            "Successfully built pyforest\n",
            "Installing collected packages: pyforest\n",
            "Successfully installed pyforest-1.0.3\n"
          ],
          "name": "stdout"
        },
        {
          "output_type": "display_data",
          "data": {
            "application/javascript": [
              "\n",
              "        if (window._pyforest_update_imports_cell) { window._pyforest_update_imports_cell('import pandas as pd'); }\n",
              "    "
            ],
            "text/plain": [
              "<IPython.core.display.Javascript object>"
            ]
          },
          "metadata": {
            "tags": []
          }
        },
        {
          "output_type": "display_data",
          "data": {
            "application/javascript": [
              "\n",
              "        if (window._pyforest_update_imports_cell) { window._pyforest_update_imports_cell('import pandas as pd'); }\n",
              "    "
            ],
            "text/plain": [
              "<IPython.core.display.Javascript object>"
            ]
          },
          "metadata": {
            "tags": []
          }
        },
        {
          "output_type": "display_data",
          "data": {
            "application/javascript": [
              "\n",
              "        if (window._pyforest_update_imports_cell) { window._pyforest_update_imports_cell('import pandas as pd'); }\n",
              "    "
            ],
            "text/plain": [
              "<IPython.core.display.Javascript object>"
            ]
          },
          "metadata": {
            "tags": []
          }
        },
        {
          "output_type": "display_data",
          "data": {
            "application/javascript": [
              "\n",
              "        if (window._pyforest_update_imports_cell) { window._pyforest_update_imports_cell('import pandas as pd'); }\n",
              "    "
            ],
            "text/plain": [
              "<IPython.core.display.Javascript object>"
            ]
          },
          "metadata": {
            "tags": []
          }
        },
        {
          "output_type": "display_data",
          "data": {
            "application/javascript": [
              "\n",
              "        if (window._pyforest_update_imports_cell) { window._pyforest_update_imports_cell('import pandas as pd'); }\n",
              "    "
            ],
            "text/plain": [
              "<IPython.core.display.Javascript object>"
            ]
          },
          "metadata": {
            "tags": []
          }
        },
        {
          "output_type": "display_data",
          "data": {
            "application/javascript": [
              "\n",
              "        if (window._pyforest_update_imports_cell) { window._pyforest_update_imports_cell('import pandas as pd'); }\n",
              "    "
            ],
            "text/plain": [
              "<IPython.core.display.Javascript object>"
            ]
          },
          "metadata": {
            "tags": []
          }
        },
        {
          "output_type": "display_data",
          "data": {
            "application/javascript": [
              "\n",
              "        if (window._pyforest_update_imports_cell) { window._pyforest_update_imports_cell('import matplotlib.pyplot as plt\\nimport pandas as pd'); }\n",
              "    "
            ],
            "text/plain": [
              "<IPython.core.display.Javascript object>"
            ]
          },
          "metadata": {
            "tags": []
          }
        }
      ]
    },
    {
      "cell_type": "code",
      "metadata": {
        "id": "XUTNNRBx_yyY",
        "colab_type": "code",
        "colab": {
          "base_uri": "https://localhost:8080/",
          "height": 185
        },
        "outputId": "8409278f-f6ff-423d-ebbd-b775c48efd88"
      },
      "source": [
        "dataset = web.DataReader('^IXIC', data_source = 'yahoo', start = '2000-01-01')\n",
        "print(dataset.head())\n",
        "print('\\n')\n",
        "print(dataset.shape)"
      ],
      "execution_count": 60,
      "outputs": [
        {
          "output_type": "stream",
          "text": [
            "                   High          Low         Open        Close      Volume    Adj Close\n",
            "Date                                                                                   \n",
            "2000-01-03  4192.189941  3989.709961  4186.189941  4131.149902  1510070000  4131.149902\n",
            "2000-01-04  4073.250000  3898.229980  4020.000000  3901.689941  1511840000  3901.689941\n",
            "2000-01-05  3924.209961  3734.870117  3854.350098  3877.540039  1735670000  3877.540039\n",
            "2000-01-06  3868.760010  3715.620117  3834.439941  3727.129883  1598320000  3727.129883\n",
            "2000-01-07  3882.669922  3711.090088  3711.090088  3882.620117  1634930000  3882.620117\n",
            "\n",
            "\n",
            "(5158, 6)\n"
          ],
          "name": "stdout"
        }
      ]
    },
    {
      "cell_type": "code",
      "metadata": {
        "id": "tKycgF9IXghK",
        "colab_type": "code",
        "colab": {
          "base_uri": "https://localhost:8080/",
          "height": 225
        },
        "outputId": "ca701ac6-e2f6-4c36-93e4-2ffb3729c038"
      },
      "source": [
        "dataset.tail()"
      ],
      "execution_count": 61,
      "outputs": [
        {
          "output_type": "execute_result",
          "data": {
            "text/html": [
              "<div>\n",
              "<style scoped>\n",
              "    .dataframe tbody tr th:only-of-type {\n",
              "        vertical-align: middle;\n",
              "    }\n",
              "\n",
              "    .dataframe tbody tr th {\n",
              "        vertical-align: top;\n",
              "    }\n",
              "\n",
              "    .dataframe thead th {\n",
              "        text-align: right;\n",
              "    }\n",
              "</style>\n",
              "<table border=\"1\" class=\"dataframe\">\n",
              "  <thead>\n",
              "    <tr style=\"text-align: right;\">\n",
              "      <th></th>\n",
              "      <th>High</th>\n",
              "      <th>Low</th>\n",
              "      <th>Open</th>\n",
              "      <th>Close</th>\n",
              "      <th>Volume</th>\n",
              "      <th>Adj Close</th>\n",
              "    </tr>\n",
              "    <tr>\n",
              "      <th>Date</th>\n",
              "      <th></th>\n",
              "      <th></th>\n",
              "      <th></th>\n",
              "      <th></th>\n",
              "      <th></th>\n",
              "      <th></th>\n",
              "    </tr>\n",
              "  </thead>\n",
              "  <tbody>\n",
              "    <tr>\n",
              "      <th>2020-06-26</th>\n",
              "      <td>10000.669922</td>\n",
              "      <td>9749.070312</td>\n",
              "      <td>9995.120117</td>\n",
              "      <td>9757.219727</td>\n",
              "      <td>7279230000</td>\n",
              "      <td>9757.219727</td>\n",
              "    </tr>\n",
              "    <tr>\n",
              "      <th>2020-06-29</th>\n",
              "      <td>9877.339844</td>\n",
              "      <td>9663.610352</td>\n",
              "      <td>9771.719727</td>\n",
              "      <td>9874.150391</td>\n",
              "      <td>4306120000</td>\n",
              "      <td>9874.150391</td>\n",
              "    </tr>\n",
              "    <tr>\n",
              "      <th>2020-06-30</th>\n",
              "      <td>10085.589844</td>\n",
              "      <td>9863.669922</td>\n",
              "      <td>9875.290039</td>\n",
              "      <td>10058.769531</td>\n",
              "      <td>4474000000</td>\n",
              "      <td>10058.769531</td>\n",
              "    </tr>\n",
              "    <tr>\n",
              "      <th>2020-07-01</th>\n",
              "      <td>10197.190430</td>\n",
              "      <td>10048.040039</td>\n",
              "      <td>10063.669922</td>\n",
              "      <td>10154.629883</td>\n",
              "      <td>4595970000</td>\n",
              "      <td>10154.629883</td>\n",
              "    </tr>\n",
              "    <tr>\n",
              "      <th>2020-07-02</th>\n",
              "      <td>10310.360352</td>\n",
              "      <td>10194.059570</td>\n",
              "      <td>10268.669922</td>\n",
              "      <td>10207.629883</td>\n",
              "      <td>4017530000</td>\n",
              "      <td>10207.629883</td>\n",
              "    </tr>\n",
              "  </tbody>\n",
              "</table>\n",
              "</div>"
            ],
            "text/plain": [
              "                    High           Low          Open         Close      Volume     Adj Close\n",
              "Date                                                                                        \n",
              "2020-06-26  10000.669922   9749.070312   9995.120117   9757.219727  7279230000   9757.219727\n",
              "2020-06-29   9877.339844   9663.610352   9771.719727   9874.150391  4306120000   9874.150391\n",
              "2020-06-30  10085.589844   9863.669922   9875.290039  10058.769531  4474000000  10058.769531\n",
              "2020-07-01  10197.190430  10048.040039  10063.669922  10154.629883  4595970000  10154.629883\n",
              "2020-07-02  10310.360352  10194.059570  10268.669922  10207.629883  4017530000  10207.629883"
            ]
          },
          "metadata": {
            "tags": []
          },
          "execution_count": 61
        }
      ]
    },
    {
      "cell_type": "code",
      "metadata": {
        "id": "w4ClN9POItX2",
        "colab_type": "code",
        "colab": {
          "base_uri": "https://localhost:8080/",
          "height": 416
        },
        "outputId": "d2a01b26-dfb8-4aba-baec-cf7262aa4534"
      },
      "source": [
        "# Plot the closing prices for `aapl`\n",
        "dataset['Open'].plot(grid=True, figsize=(10, 6))\n",
        "plt.title('Nasdaq Composite open price')\n",
        "plt.ylabel('price ($)')\n",
        "# Show the plot\n",
        "plt.show()"
      ],
      "execution_count": 62,
      "outputs": [
        {
          "output_type": "display_data",
          "data": {
            "application/javascript": [
              "\n",
              "        if (window._pyforest_update_imports_cell) { window._pyforest_update_imports_cell('import statistics\\nimport pickle\\nimport altair as alt\\nimport seaborn as sns\\nimport plotly as py\\nimport sklearn\\nimport spacy\\nimport xgboost as xgb\\nimport plotly.express as px\\nimport sys\\nimport bokeh\\nfrom sklearn import svm\\nimport pandas as pd\\nimport nltk\\nimport numpy as np\\nimport matplotlib.pyplot as plt\\nimport pydot'); }\n",
              "    "
            ],
            "text/plain": [
              "<IPython.core.display.Javascript object>"
            ]
          },
          "metadata": {
            "tags": []
          }
        },
        {
          "output_type": "display_data",
          "data": {
            "application/javascript": [
              "\n",
              "        if (window._pyforest_update_imports_cell) { window._pyforest_update_imports_cell('import statistics\\nimport pickle\\nimport altair as alt\\nimport seaborn as sns\\nimport plotly as py\\nimport sklearn\\nimport spacy\\nimport xgboost as xgb\\nimport plotly.express as px\\nimport sys\\nimport bokeh\\nfrom sklearn import svm\\nimport pandas as pd\\nimport nltk\\nimport numpy as np\\nimport matplotlib.pyplot as plt\\nimport pydot'); }\n",
              "    "
            ],
            "text/plain": [
              "<IPython.core.display.Javascript object>"
            ]
          },
          "metadata": {
            "tags": []
          }
        },
        {
          "output_type": "display_data",
          "data": {
            "application/javascript": [
              "\n",
              "        if (window._pyforest_update_imports_cell) { window._pyforest_update_imports_cell('import statistics\\nimport pickle\\nimport altair as alt\\nimport seaborn as sns\\nimport plotly as py\\nimport sklearn\\nimport spacy\\nimport xgboost as xgb\\nimport plotly.express as px\\nimport sys\\nimport bokeh\\nfrom sklearn import svm\\nimport pandas as pd\\nimport nltk\\nimport numpy as np\\nimport matplotlib.pyplot as plt\\nimport pydot'); }\n",
              "    "
            ],
            "text/plain": [
              "<IPython.core.display.Javascript object>"
            ]
          },
          "metadata": {
            "tags": []
          }
        },
        {
          "output_type": "display_data",
          "data": {
            "image/png": "[encoded data removed]",
            "text/plain": [
              "<Figure size 720x432 with 1 Axes>"
            ]
          },
          "metadata": {
            "tags": []
          }
        }
      ]
    },
    {
      "cell_type": "code",
      "metadata": {
        "id": "re581r2y_2cq",
        "colab_type": "code",
        "colab": {}
      },
      "source": [
        "# resetting index \n",
        "dataset.reset_index(inplace = True) \n",
        "# display \n",
        "print(dataset.head()) "
      ],
      "execution_count": null,
      "outputs": []
    },
    {
      "cell_type": "code",
      "metadata": {
        "id": "j-1Qy9MYJVyE",
        "colab_type": "code",
        "colab": {}
      },
      "source": [
        "dataset = dataset.sort_values(by = ['Date'], ascending=True)\n",
        "print(dataset.head())"
      ],
      "execution_count": null,
      "outputs": []
    },
    {
      "cell_type": "markdown",
      "metadata": {
        "id": "DqRKFJngW1d1",
        "colab_type": "text"
      },
      "source": [
        "### ***Predictors***\n",
        "We are going to omit High, Low and Open, using only Open and Volume for the study. Let’s start preparing the data for the analysis. The predictors (X variables) to be used to predict the target magnitued (y variable) will be the following ones:\n",
        "\n",
        "Two day simple moving average (SMA2). The formula is (Ct – Ct-1)/2, being Ct equal to current day’s open price and Ct-1 to previous day’s open price. This formula is applied to each row of the data set."
      ]
    },
    {
      "cell_type": "markdown",
      "metadata": {
        "id": "xaFjaPSaXCc1",
        "colab_type": "text"
      },
      "source": [
        "### 1 day window SMA2. The previous day’s SMA2 value."
      ]
    },
    {
      "cell_type": "markdown",
      "metadata": {
        "id": "lcWsvHugXNpM",
        "colab_type": "text"
      },
      "source": [
        "And the other predictors will be:\n",
        "\n",
        "- Current day SMA2 increment. (SMA2t – SMA2t-1).\n",
        "- 1 day window SMA2 increment. (SMA2t-1 – SMA2t-2).\n",
        "- Current day volume increment. (Volt – Volt-1).\n",
        "- Current day volume rate of change. (Volt – Volt-1)/Volt\n",
        "- 1 day window open price. (Ct-1)\n",
        "- Current day open price increment. Ct – Ct-1\n",
        "- Current day open price. Ct."
      ]
    },
    {
      "cell_type": "code",
      "metadata": {
        "id": "xfZU8CorUnsT",
        "colab_type": "code",
        "colab": {
          "base_uri": "https://localhost:8080/",
          "height": 286
        },
        "outputId": "4f268590-1e6e-4c5d-c208-24b5224975e0"
      },
      "source": [
        "p = dataset['Open'].rolling(window=2).mean()\n",
        "\n",
        "dataset['ma1'] = p.diff()\n",
        "dataset['ma2'] = dataset['ma1'].diff()\n",
        "dataset['ma3'] = dataset['ma2'].diff()\n",
        "dataset['HL'] = (dataset['High'] - dataset['Close']) / dataset['Close'] * 100\n",
        "dataset['pct_change'] = (dataset['Close'] - dataset['Open']) / dataset['Open'] * 100\n",
        "dataset['vol_increment'] = dataset.Volume.diff() / dataset.Volume\n",
        "#dataset[\"vol_roc\"] = dataset.Volume.diff() / dataset.Volume\n",
        "dataset[\"open1\"] = dataset.Open.shift(1)\n",
        "dataset[\"open_increment\"] = dataset.Open - dataset.Open.shift(1)\n",
        "\n",
        "print(dataset.head())\n",
        "print(dataset.shape)"
      ],
      "execution_count": 63,
      "outputs": [
        {
          "output_type": "stream",
          "text": [
            "                   High          Low         Open        Close      Volume    Adj Close         ma1        ma2        ma3        HL  pct_change  \\\n",
            "Date                                                                                                                                              \n",
            "2000-01-03  4192.189941  3989.709961  4186.189941  4131.149902  1510070000  4131.149902         NaN        NaN        NaN  1.477556   -1.314800   \n",
            "2000-01-04  4073.250000  3898.229980  4020.000000  3901.689941  1511840000  3901.689941         NaN        NaN        NaN  4.397071   -2.943036   \n",
            "2000-01-05  3924.209961  3734.870117  3854.350098  3877.540039  1735670000  3877.540039 -165.919922        NaN        NaN  1.203596    0.601656   \n",
            "2000-01-06  3868.760010  3715.620117  3834.439941  3727.129883  1598320000  3727.129883  -92.780029  73.139893        NaN  3.799978   -2.798585   \n",
            "2000-01-07  3882.669922  3711.090088  3711.090088  3882.620117  1634930000  3882.620117  -71.630005  21.150024 -51.989868  0.001283    4.622093   \n",
            "\n",
            "            vol_increment        open1  open_increment  \n",
            "Date                                                    \n",
            "2000-01-03            NaN          NaN             NaN  \n",
            "2000-01-04       0.001171  4186.189941     -166.189941  \n",
            "2000-01-05       0.128959  4020.000000     -165.649902  \n",
            "2000-01-06      -0.085934  3854.350098      -19.910156  \n",
            "2000-01-07       0.022392  3834.439941     -123.349854  \n",
            "(5158, 14)\n"
          ],
          "name": "stdout"
        }
      ]
    },
    {
      "cell_type": "code",
      "metadata": {
        "id": "0d6lfXd_86wf",
        "colab_type": "code",
        "colab": {
          "base_uri": "https://localhost:8080/",
          "height": 134
        },
        "outputId": "72ccb229-8217-41cf-b9c4-722ab7a35320"
      },
      "source": [
        "dataset = dataset[['ma1', \n",
        "                   'ma2',\n",
        "                   'ma3', \n",
        "                   'HL', \n",
        "                   'pct_change', \n",
        "                   'vol_increment', \n",
        "                   'open1', \n",
        "                   'open_increment', \n",
        "                   'Open']]\n",
        "print(dataset.head())"
      ],
      "execution_count": 64,
      "outputs": [
        {
          "output_type": "stream",
          "text": [
            "                   ma1        ma2        ma3        HL  pct_change  vol_increment        open1  open_increment         Open\n",
            "Date                                                                                                                       \n",
            "2000-01-03         NaN        NaN        NaN  1.477556   -1.314800            NaN          NaN             NaN  4186.189941\n",
            "2000-01-04         NaN        NaN        NaN  4.397071   -2.943036       0.001171  4186.189941     -166.189941  4020.000000\n",
            "2000-01-05 -165.919922        NaN        NaN  1.203596    0.601656       0.128959  4020.000000     -165.649902  3854.350098\n",
            "2000-01-06  -92.780029  73.139893        NaN  3.799978   -2.798585      -0.085934  3854.350098      -19.910156  3834.439941\n",
            "2000-01-07  -71.630005  21.150024 -51.989868  0.001283    4.622093       0.022392  3834.439941     -123.349854  3711.090088\n"
          ],
          "name": "stdout"
        }
      ]
    },
    {
      "cell_type": "code",
      "metadata": {
        "id": "V6a6oKJZ6Nf-",
        "colab_type": "code",
        "colab": {
          "base_uri": "https://localhost:8080/",
          "height": 134
        },
        "outputId": "d467aee1-8a1a-4426-da65-9b9b3cd6c430"
      },
      "source": [
        "dataset.fillna(-99999, inplace = True)\n",
        "print(dataset.head())"
      ],
      "execution_count": 65,
      "outputs": [
        {
          "output_type": "stream",
          "text": [
            "                     ma1           ma2           ma3        HL  pct_change  vol_increment         open1  open_increment         Open\n",
            "Date                                                                                                                                \n",
            "2000-01-03 -99999.000000 -99999.000000 -99999.000000  1.477556   -1.314800  -99999.000000 -99999.000000   -99999.000000  4186.189941\n",
            "2000-01-04 -99999.000000 -99999.000000 -99999.000000  4.397071   -2.943036       0.001171   4186.189941     -166.189941  4020.000000\n",
            "2000-01-05   -165.919922 -99999.000000 -99999.000000  1.203596    0.601656       0.128959   4020.000000     -165.649902  3854.350098\n",
            "2000-01-06    -92.780029     73.139893 -99999.000000  3.799978   -2.798585      -0.085934   3854.350098      -19.910156  3834.439941\n",
            "2000-01-07    -71.630005     21.150024    -51.989868  0.001283    4.622093       0.022392   3834.439941     -123.349854  3711.090088\n"
          ],
          "name": "stdout"
        }
      ]
    },
    {
      "cell_type": "code",
      "metadata": {
        "id": "D8aswkBCVIW6",
        "colab_type": "code",
        "colab": {}
      },
      "source": [
        "#print(Predictors.head())"
      ],
      "execution_count": null,
      "outputs": []
    },
    {
      "cell_type": "markdown",
      "metadata": {
        "id": "pIuonocSXaB8",
        "colab_type": "text"
      },
      "source": [
        "### ***Target Variable***\n",
        "This will be a classification variable, if the average price will go either up or down the next day.  The target will be forecasting the difference between today’s price and tomorrow’s price (which is unkonwn)."
      ]
    },
    {
      "cell_type": "code",
      "metadata": {
        "id": "L7ezuUwGVVu_",
        "colab_type": "code",
        "colab": {
          "base_uri": "https://localhost:8080/",
          "height": 134
        },
        "outputId": "cdf8f1f3-4be6-4d2d-f338-2d5b77fad166"
      },
      "source": [
        "dataset['target'] = (dataset.ma1.shift(-1) - dataset.ma1).dropna()\n",
        "print(dataset.head())"
      ],
      "execution_count": 66,
      "outputs": [
        {
          "output_type": "stream",
          "text": [
            "                     ma1           ma2           ma3        HL  pct_change  vol_increment         open1  open_increment         Open        target\n",
            "Date                                                                                                                                              \n",
            "2000-01-03 -99999.000000 -99999.000000 -99999.000000  1.477556   -1.314800  -99999.000000 -99999.000000   -99999.000000  4186.189941      0.000000\n",
            "2000-01-04 -99999.000000 -99999.000000 -99999.000000  4.397071   -2.943036       0.001171   4186.189941     -166.189941  4020.000000  99833.080078\n",
            "2000-01-05   -165.919922 -99999.000000 -99999.000000  1.203596    0.601656       0.128959   4020.000000     -165.649902  3854.350098     73.139893\n",
            "2000-01-06    -92.780029     73.139893 -99999.000000  3.799978   -2.798585      -0.085934   3854.350098      -19.910156  3834.439941     21.150024\n",
            "2000-01-07    -71.630005     21.150024    -51.989868  0.001283    4.622093       0.022392   3834.439941     -123.349854  3711.090088    155.525024\n"
          ],
          "name": "stdout"
        }
      ]
    },
    {
      "cell_type": "code",
      "metadata": {
        "id": "put3MKrlk2NJ",
        "colab_type": "code",
        "colab": {
          "base_uri": "https://localhost:8080/",
          "height": 333
        },
        "outputId": "384058b3-1ec1-454c-c678-91e5e291826e"
      },
      "source": [
        "corr = dataset.corr()\n",
        "ax = sns.heatmap(\n",
        "    corr, \n",
        "    vmin=-1, vmax=1, center=0,\n",
        "    cmap=sns.diverging_palette(20, 220, n=200),\n",
        "    square=True\n",
        ")\n",
        "ax.set_xticklabels(\n",
        "    ax.get_xticklabels(),\n",
        "    rotation=45,\n",
        "    horizontalalignment='right'\n",
        ");"
      ],
      "execution_count": 18,
      "outputs": [
        {
          "output_type": "display_data",
          "data": {
            "application/javascript": [
              "\n",
              "        if (window._pyforest_update_imports_cell) { window._pyforest_update_imports_cell('import matplotlib.pyplot as plt\\nimport pandas as pd\\nimport seaborn as sns'); }\n",
              "    "
            ],
            "text/plain": [
              "<IPython.core.display.Javascript object>"
            ]
          },
          "metadata": {
            "tags": []
          }
        },
        {
          "output_type": "display_data",
          "data": {
            "application/javascript": [
              "\n",
              "        if (window._pyforest_update_imports_cell) { window._pyforest_update_imports_cell('import matplotlib.pyplot as plt\\nimport pandas as pd\\nimport seaborn as sns'); }\n",
              "    "
            ],
            "text/plain": [
              "<IPython.core.display.Javascript object>"
            ]
          },
          "metadata": {
            "tags": []
          }
        },
        {
          "output_type": "display_data",
          "data": {
            "image/png": "[encoded data removed]",
            "text/plain": [
              "<Figure size 432x288 with 2 Axes>"
            ]
          },
          "metadata": {
            "tags": []
          }
        }
      ]
    },
    {
      "cell_type": "code",
      "metadata": {
        "id": "hT29QN8-UsWZ",
        "colab_type": "code",
        "colab": {
          "base_uri": "https://localhost:8080/",
          "height": 449
        },
        "outputId": "94f65615-3f2a-42b6-eb6c-ab4e454964b1"
      },
      "source": [
        "# Checking Correlation \n",
        "sns.set(style='darkgrid', context='talk', palette='Dark2')\n",
        "plt.figure(figsize=(14,5))\n",
        "dataset.corr()['Open'].sort_values(ascending = False).plot(kind='bar')\n",
        "plt.show()"
      ],
      "execution_count": 67,
      "outputs": [
        {
          "output_type": "display_data",
          "data": {
            "application/javascript": [
              "\n",
              "        if (window._pyforest_update_imports_cell) { window._pyforest_update_imports_cell('import statistics\\nimport pickle\\nimport altair as alt\\nimport seaborn as sns\\nimport plotly as py\\nimport sklearn\\nimport spacy\\nimport xgboost as xgb\\nimport plotly.express as px\\nimport sys\\nimport bokeh\\nfrom sklearn import svm\\nimport pandas as pd\\nimport nltk\\nimport numpy as np\\nimport matplotlib.pyplot as plt\\nimport pydot'); }\n",
              "    "
            ],
            "text/plain": [
              "<IPython.core.display.Javascript object>"
            ]
          },
          "metadata": {
            "tags": []
          }
        },
        {
          "output_type": "display_data",
          "data": {
            "application/javascript": [
              "\n",
              "        if (window._pyforest_update_imports_cell) { window._pyforest_update_imports_cell('import statistics\\nimport pickle\\nimport altair as alt\\nimport seaborn as sns\\nimport plotly as py\\nimport sklearn\\nimport spacy\\nimport xgboost as xgb\\nimport plotly.express as px\\nimport sys\\nimport bokeh\\nfrom sklearn import svm\\nimport pandas as pd\\nimport nltk\\nimport numpy as np\\nimport matplotlib.pyplot as plt\\nimport pydot'); }\n",
              "    "
            ],
            "text/plain": [
              "<IPython.core.display.Javascript object>"
            ]
          },
          "metadata": {
            "tags": []
          }
        },
        {
          "output_type": "display_data",
          "data": {
            "application/javascript": [
              "\n",
              "        if (window._pyforest_update_imports_cell) { window._pyforest_update_imports_cell('import statistics\\nimport pickle\\nimport altair as alt\\nimport seaborn as sns\\nimport plotly as py\\nimport sklearn\\nimport spacy\\nimport xgboost as xgb\\nimport plotly.express as px\\nimport sys\\nimport bokeh\\nfrom sklearn import svm\\nimport pandas as pd\\nimport nltk\\nimport numpy as np\\nimport matplotlib.pyplot as plt\\nimport pydot'); }\n",
              "    "
            ],
            "text/plain": [
              "<IPython.core.display.Javascript object>"
            ]
          },
          "metadata": {
            "tags": []
          }
        },
        {
          "output_type": "display_data",
          "data": {
            "image/png": "[encoded data removed]",
            "text/plain": [
              "<Figure size 1008x360 with 1 Axes>"
            ]
          },
          "metadata": {
            "tags": []
          }
        }
      ]
    },
    {
      "cell_type": "code",
      "metadata": {
        "id": "GRxXBlH07aOS",
        "colab_type": "code",
        "colab": {
          "base_uri": "https://localhost:8080/",
          "height": 460
        },
        "outputId": "c2b833b4-01a5-412f-e7ed-9203e2706db2"
      },
      "source": [
        "# Compute the correlation matrix\n",
        "corr = dataset.corr()\n",
        "sns.heatmap(corr)\n",
        "heat_map=plt.gcf()\n",
        "heat_map.set_size_inches(10,6)\n",
        "plt.show()"
      ],
      "execution_count": 19,
      "outputs": [
        {
          "output_type": "display_data",
          "data": {
            "application/javascript": [
              "\n",
              "        if (window._pyforest_update_imports_cell) { window._pyforest_update_imports_cell('import matplotlib.pyplot as plt\\nimport pandas as pd\\nimport seaborn as sns'); }\n",
              "    "
            ],
            "text/plain": [
              "<IPython.core.display.Javascript object>"
            ]
          },
          "metadata": {
            "tags": []
          }
        },
        {
          "output_type": "display_data",
          "data": {
            "application/javascript": [
              "\n",
              "        if (window._pyforest_update_imports_cell) { window._pyforest_update_imports_cell('import matplotlib.pyplot as plt\\nimport pandas as pd\\nimport seaborn as sns'); }\n",
              "    "
            ],
            "text/plain": [
              "<IPython.core.display.Javascript object>"
            ]
          },
          "metadata": {
            "tags": []
          }
        },
        {
          "output_type": "display_data",
          "data": {
            "application/javascript": [
              "\n",
              "        if (window._pyforest_update_imports_cell) { window._pyforest_update_imports_cell('import matplotlib.pyplot as plt\\nimport pandas as pd\\nimport seaborn as sns'); }\n",
              "    "
            ],
            "text/plain": [
              "<IPython.core.display.Javascript object>"
            ]
          },
          "metadata": {
            "tags": []
          }
        },
        {
          "output_type": "display_data",
          "data": {
            "image/png": "[encoded data removed]",
            "text/plain": [
              "<Figure size 720x432 with 2 Axes>"
            ]
          },
          "metadata": {
            "tags": []
          }
        }
      ]
    },
    {
      "cell_type": "code",
      "metadata": {
        "id": "lWcZFUi4VIVL",
        "colab_type": "code",
        "colab": {
          "base_uri": "https://localhost:8080/",
          "height": 34
        },
        "outputId": "edf3e034-6912-4a81-9681-8c95387904e3"
      },
      "source": [
        "print('Total dataset has {} samples, and {} features.'.format(dataset.shape[0], dataset.shape[1]))"
      ],
      "execution_count": 68,
      "outputs": [
        {
          "output_type": "stream",
          "text": [
            "Total dataset has 5158 samples, and 10 features.\n"
          ],
          "name": "stdout"
        }
      ]
    },
    {
      "cell_type": "code",
      "metadata": {
        "id": "1Zm0tUK4QLPv",
        "colab_type": "code",
        "colab": {
          "base_uri": "https://localhost:8080/",
          "height": 34
        },
        "outputId": "89249923-8855-414b-acf2-b8953a4c44fd"
      },
      "source": [
        "X = (dataset.drop(['target'], 1))\n",
        "y = (dataset['target'])\n",
        "print(len(X), len(y))"
      ],
      "execution_count": 21,
      "outputs": [
        {
          "output_type": "stream",
          "text": [
            "5158 5158\n"
          ],
          "name": "stdout"
        }
      ]
    },
    {
      "cell_type": "code",
      "metadata": {
        "id": "GjNleEIxQtJo",
        "colab_type": "code",
        "colab": {
          "base_uri": "https://localhost:8080/",
          "height": 50
        },
        "outputId": "0afb74ea-2c5b-48f1-e245-501c35680b8e"
      },
      "source": [
        "from sklearn.model_selection import cross_val_score, KFold, cross_validate, train_test_split, TimeSeriesSplit\n",
        "\n",
        "X = np.array(dataset.drop(['target', 'open1'], 1))\n",
        "y = np.array(dataset['target'])\n",
        "\n",
        "tscv = TimeSeriesSplit(max_train_size=None, n_splits=5)\n",
        "for train_samples, test_samples in tscv.split(X):\n",
        "  #print(\"TRAIN:\", train_samples, \"TEST:\", test_samples)\n",
        "  X_train, X_test = X[train_samples], X[test_samples]\n",
        "  y_train, y_test = y[train_samples], y[test_samples]\n",
        "\n",
        "feature_names = ['ma1','ma2','ma3','HL','pct_change','vol_increment','open_increment','Open']\n",
        "X_train = pd.DataFrame(data=X_train, columns=feature_names)\n",
        "X_test = pd.DataFrame(data=X_test, columns=feature_names)\n",
        "\n",
        "print(X_train.shape, y_train.shape)\n",
        "print(X_test.shape, y_test.shape)\n"
      ],
      "execution_count": 49,
      "outputs": [
        {
          "output_type": "display_data",
          "data": {
            "application/javascript": [
              "\n",
              "        if (window._pyforest_update_imports_cell) { window._pyforest_update_imports_cell('import pickle\\nimport altair as alt\\nimport seaborn as sns\\nimport plotly as py\\nimport xgboost as xgb\\nimport plotly.express as px\\nimport bokeh\\nimport pandas as pd\\nimport nltk\\nimport numpy as np\\nimport matplotlib.pyplot as plt\\nimport pydot'); }\n",
              "    "
            ],
            "text/plain": [
              "<IPython.core.display.Javascript object>"
            ]
          },
          "metadata": {
            "tags": []
          }
        },
        {
          "output_type": "display_data",
          "data": {
            "application/javascript": [
              "\n",
              "        if (window._pyforest_update_imports_cell) { window._pyforest_update_imports_cell('import pickle\\nimport altair as alt\\nimport seaborn as sns\\nimport plotly as py\\nimport xgboost as xgb\\nimport plotly.express as px\\nimport bokeh\\nimport pandas as pd\\nimport nltk\\nimport numpy as np\\nimport matplotlib.pyplot as plt\\nimport pydot'); }\n",
              "    "
            ],
            "text/plain": [
              "<IPython.core.display.Javascript object>"
            ]
          },
          "metadata": {
            "tags": []
          }
        },
        {
          "output_type": "display_data",
          "data": {
            "application/javascript": [
              "\n",
              "        if (window._pyforest_update_imports_cell) { window._pyforest_update_imports_cell('import pickle\\nimport altair as alt\\nimport seaborn as sns\\nimport plotly as py\\nimport xgboost as xgb\\nimport plotly.express as px\\nimport bokeh\\nimport pandas as pd\\nimport nltk\\nimport numpy as np\\nimport matplotlib.pyplot as plt\\nimport pydot'); }\n",
              "    "
            ],
            "text/plain": [
              "<IPython.core.display.Javascript object>"
            ]
          },
          "metadata": {
            "tags": []
          }
        },
        {
          "output_type": "display_data",
          "data": {
            "application/javascript": [
              "\n",
              "        if (window._pyforest_update_imports_cell) { window._pyforest_update_imports_cell('import pickle\\nimport altair as alt\\nimport seaborn as sns\\nimport plotly as py\\nimport xgboost as xgb\\nimport plotly.express as px\\nimport bokeh\\nimport pandas as pd\\nimport nltk\\nimport numpy as np\\nimport matplotlib.pyplot as plt\\nimport pydot'); }\n",
              "    "
            ],
            "text/plain": [
              "<IPython.core.display.Javascript object>"
            ]
          },
          "metadata": {
            "tags": []
          }
        },
        {
          "output_type": "stream",
          "text": [
            "(4299, 8) (4299,)\n",
            "(859, 8) (859,)\n"
          ],
          "name": "stdout"
        }
      ]
    },
    {
      "cell_type": "code",
      "metadata": {
        "id": "M_9Y961WeFnU",
        "colab_type": "code",
        "colab": {}
      },
      "source": [
        "X_train, X_test, y_train, y_test"
      ],
      "execution_count": null,
      "outputs": []
    },
    {
      "cell_type": "markdown",
      "metadata": {
        "id": "FcmMQJOjUqzy",
        "colab_type": "text"
      },
      "source": [
        "The target variables will be transformed for binary classification. A positive change in the value of prices will be classified as 1 and a non-positive change as 0."
      ]
    },
    {
      "cell_type": "code",
      "metadata": {
        "id": "oPOH0cqXTxfd",
        "colab_type": "code",
        "colab": {
          "base_uri": "https://localhost:8080/",
          "height": 17
        },
        "outputId": "6e9efa6f-a8a2-4780-8e65-f1e3162db374"
      },
      "source": [
        "y_train = pd.DataFrame(y_train)\n",
        "y_train.rename(columns = {0: 'target'}, inplace=True)\n",
        "\n",
        "y_test = pd.DataFrame(y_test)\n",
        "y_test.rename(columns = {0: 'target'}, inplace=True)\n",
        "\n",
        "def getBinary(val):\n",
        "    if val>0:\n",
        "        return 1\n",
        "    else:\n",
        "        return 0\n",
        "y_test_binary = pd.DataFrame(y_test[\"target\"].apply(getBinary))\n"
      ],
      "execution_count": 50,
      "outputs": [
        {
          "output_type": "display_data",
          "data": {
            "application/javascript": [
              "\n",
              "        if (window._pyforest_update_imports_cell) { window._pyforest_update_imports_cell('import pickle\\nimport altair as alt\\nimport seaborn as sns\\nimport plotly as py\\nimport xgboost as xgb\\nimport plotly.express as px\\nimport bokeh\\nimport pandas as pd\\nimport nltk\\nimport numpy as np\\nimport matplotlib.pyplot as plt\\nimport pydot'); }\n",
              "    "
            ],
            "text/plain": [
              "<IPython.core.display.Javascript object>"
            ]
          },
          "metadata": {
            "tags": []
          }
        },
        {
          "output_type": "display_data",
          "data": {
            "application/javascript": [
              "\n",
              "        if (window._pyforest_update_imports_cell) { window._pyforest_update_imports_cell('import pickle\\nimport altair as alt\\nimport seaborn as sns\\nimport plotly as py\\nimport xgboost as xgb\\nimport plotly.express as px\\nimport bokeh\\nimport pandas as pd\\nimport nltk\\nimport numpy as np\\nimport matplotlib.pyplot as plt\\nimport pydot'); }\n",
              "    "
            ],
            "text/plain": [
              "<IPython.core.display.Javascript object>"
            ]
          },
          "metadata": {
            "tags": []
          }
        },
        {
          "output_type": "display_data",
          "data": {
            "application/javascript": [
              "\n",
              "        if (window._pyforest_update_imports_cell) { window._pyforest_update_imports_cell('import pickle\\nimport altair as alt\\nimport seaborn as sns\\nimport plotly as py\\nimport xgboost as xgb\\nimport plotly.express as px\\nimport bokeh\\nimport pandas as pd\\nimport nltk\\nimport numpy as np\\nimport matplotlib.pyplot as plt\\nimport pydot'); }\n",
              "    "
            ],
            "text/plain": [
              "<IPython.core.display.Javascript object>"
            ]
          },
          "metadata": {
            "tags": []
          }
        }
      ]
    },
    {
      "cell_type": "markdown",
      "metadata": {
        "id": "gCGAthS3ohd8",
        "colab_type": "text"
      },
      "source": [
        "and the transformation is applied on the test data for later use.\n",
        "the train data will be transformed while it is being fit."
      ]
    },
    {
      "cell_type": "code",
      "metadata": {
        "id": "oVyNI38pUP11",
        "colab_type": "code",
        "colab": {
          "base_uri": "https://localhost:8080/",
          "height": 134
        },
        "outputId": "605f4736-d2a7-4e8a-cf26-21bedd0f0448"
      },
      "source": [
        "regressor = xgb.XGBRegressor(objective ='reg:squarederror',\n",
        "                             gamma=0.0,\n",
        "                             n_estimators=200,\n",
        "                             base_score=0.7,\n",
        "                             colsample_bytree=1,\n",
        "                             learning_rate=0.01)\n",
        "regressor\n"
      ],
      "execution_count": 51,
      "outputs": [
        {
          "output_type": "display_data",
          "data": {
            "application/javascript": [
              "\n",
              "        if (window._pyforest_update_imports_cell) { window._pyforest_update_imports_cell('import pickle\\nimport altair as alt\\nimport seaborn as sns\\nimport plotly as py\\nimport xgboost as xgb\\nimport plotly.express as px\\nimport bokeh\\nimport pandas as pd\\nimport nltk\\nimport numpy as np\\nimport matplotlib.pyplot as plt\\nimport pydot'); }\n",
              "    "
            ],
            "text/plain": [
              "<IPython.core.display.Javascript object>"
            ]
          },
          "metadata": {
            "tags": []
          }
        },
        {
          "output_type": "execute_result",
          "data": {
            "text/plain": [
              "XGBRegressor(base_score=0.7, booster='gbtree', colsample_bylevel=1,\n",
              "             colsample_bynode=1, colsample_bytree=1, gamma=0.0,\n",
              "             importance_type='gain', learning_rate=0.01, max_delta_step=0,\n",
              "             max_depth=3, min_child_weight=1, missing=None, n_estimators=200,\n",
              "             n_jobs=1, nthread=None, objective='reg:squarederror',\n",
              "             random_state=0, reg_alpha=0, reg_lambda=1, scale_pos_weight=1,\n",
              "             seed=None, silent=None, subsample=1, verbosity=1)"
            ]
          },
          "metadata": {
            "tags": []
          },
          "execution_count": 51
        }
      ]
    },
    {
      "cell_type": "code",
      "metadata": {
        "id": "rCsVfRTdRuEa",
        "colab_type": "code",
        "colab": {
          "base_uri": "https://localhost:8080/",
          "height": 34
        },
        "outputId": "8232b9e4-05b9-4237-9c93-4a855ff9881f"
      },
      "source": [
        "xgb_model = regressor.fit(X_train, y_train.target.apply(getBinary))\n",
        "y_predicted = xgb_model.predict(X_test)\n",
        "y_predicted_binary = [1 if yp > 0.5 else 0 for yp in y_predicted]\n",
        "accuracy = (accuracy_score(y_test_binary,y_predicted_binary))\n",
        "print(\"Accuracy: %.2f%%\" % (accuracy * 100.0))"
      ],
      "execution_count": 52,
      "outputs": [
        {
          "output_type": "stream",
          "text": [
            "Accuracy: 78.81%\n"
          ],
          "name": "stdout"
        }
      ]
    },
    {
      "cell_type": "markdown",
      "metadata": {
        "id": "5FAhiQmgWQJs",
        "colab_type": "text"
      },
      "source": [
        "***So, the initial accuracy without optimizing the model is 78.28% predicting the daily average price change for each of the the next 617 trading days***"
      ]
    },
    {
      "cell_type": "code",
      "metadata": {
        "id": "WUkJFZOofCYd",
        "colab_type": "code",
        "colab": {
          "base_uri": "https://localhost:8080/",
          "height": 430
        },
        "outputId": "f82e297a-46e7-4cc1-c45f-2fa54c89952b"
      },
      "source": [
        "plt.rcParams['figure.figsize'] = [10,6]\n",
        "from xgboost import plot_importance\n",
        "# plot feature importance\n",
        "plot_importance(xgb_model)\n",
        "plt.show()"
      ],
      "execution_count": 54,
      "outputs": [
        {
          "output_type": "display_data",
          "data": {
            "application/javascript": [
              "\n",
              "        if (window._pyforest_update_imports_cell) { window._pyforest_update_imports_cell('import pickle\\nimport altair as alt\\nimport seaborn as sns\\nimport plotly as py\\nimport xgboost as xgb\\nimport plotly.express as px\\nimport bokeh\\nimport pandas as pd\\nimport nltk\\nimport numpy as np\\nimport matplotlib.pyplot as plt\\nimport pydot'); }\n",
              "    "
            ],
            "text/plain": [
              "<IPython.core.display.Javascript object>"
            ]
          },
          "metadata": {
            "tags": []
          }
        },
        {
          "output_type": "display_data",
          "data": {
            "application/javascript": [
              "\n",
              "        if (window._pyforest_update_imports_cell) { window._pyforest_update_imports_cell('import pickle\\nimport altair as alt\\nimport seaborn as sns\\nimport plotly as py\\nimport xgboost as xgb\\nimport plotly.express as px\\nimport bokeh\\nimport pandas as pd\\nimport nltk\\nimport numpy as np\\nimport matplotlib.pyplot as plt\\nimport pydot'); }\n",
              "    "
            ],
            "text/plain": [
              "<IPython.core.display.Javascript object>"
            ]
          },
          "metadata": {
            "tags": []
          }
        },
        {
          "output_type": "display_data",
          "data": {
            "image/png": "[encoded data removed]",
            "text/plain": [
              "<Figure size 720x432 with 1 Axes>"
            ]
          },
          "metadata": {
            "tags": []
          }
        }
      ]
    },
    {
      "cell_type": "code",
      "metadata": {
        "id": "K9UJbcTMV5gg",
        "colab_type": "code",
        "colab": {
          "base_uri": "https://localhost:8080/",
          "height": 336
        },
        "outputId": "48429385-0103-4853-823b-9f942c58b32a"
      },
      "source": [
        "pip install shap"
      ],
      "execution_count": 56,
      "outputs": [
        {
          "output_type": "stream",
          "text": [
            "Collecting shap\n",
            "\u001b[?25l  Downloading https://files.pythonhosted.org/packages/a8/77/b504e43e21a2ba543a1ac4696718beb500cfa708af2fb57cb54ce299045c/shap-0.35.0.tar.gz (273kB)\n",
            "\r\u001b[K     |█▏                              | 10kB 15.4MB/s eta 0:00:01\r\u001b[K     |██▍                             | 20kB 5.1MB/s eta 0:00:01\r\u001b[K     |███▋                            | 30kB 6.5MB/s eta 0:00:01\r\u001b[K     |████▉                           | 40kB 6.3MB/s eta 0:00:01\r\u001b[K     |██████                          | 51kB 5.5MB/s eta 0:00:01\r\u001b[K     |███████▏                        | 61kB 6.0MB/s eta 0:00:01\r\u001b[K     |████████▍                       | 71kB 6.4MB/s eta 0:00:01\r\u001b[K     |█████████▋                      | 81kB 7.0MB/s eta 0:00:01\r\u001b[K     |██████████▉                     | 92kB 6.5MB/s eta 0:00:01\r\u001b[K     |████████████                    | 102kB 6.5MB/s eta 0:00:01\r\u001b[K     |█████████████▏                  | 112kB 6.5MB/s eta 0:00:01\r\u001b[K     |██████████████▍                 | 122kB 6.5MB/s eta 0:00:01\r\u001b[K     |███████████████▋                | 133kB 6.5MB/s eta 0:00:01\r\u001b[K     |████████████████▉               | 143kB 6.5MB/s eta 0:00:01\r\u001b[K     |██████████████████              | 153kB 6.5MB/s eta 0:00:01\r\u001b[K     |███████████████████▏            | 163kB 6.5MB/s eta 0:00:01\r\u001b[K     |████████████████████▍           | 174kB 6.5MB/s eta 0:00:01\r\u001b[K     |█████████████████████▋          | 184kB 6.5MB/s eta 0:00:01\r\u001b[K     |██████████████████████▉         | 194kB 6.5MB/s eta 0:00:01\r\u001b[K     |████████████████████████        | 204kB 6.5MB/s eta 0:00:01\r\u001b[K     |█████████████████████████▏      | 215kB 6.5MB/s eta 0:00:01\r\u001b[K     |██████████████████████████▍     | 225kB 6.5MB/s eta 0:00:01\r\u001b[K     |███████████████████████████▋    | 235kB 6.5MB/s eta 0:00:01\r\u001b[K     |████████████████████████████▉   | 245kB 6.5MB/s eta 0:00:01\r\u001b[K     |██████████████████████████████  | 256kB 6.5MB/s eta 0:00:01\r\u001b[K     |███████████████████████████████▏| 266kB 6.5MB/s eta 0:00:01\r\u001b[K     |████████████████████████████████| 276kB 6.5MB/s \n",
            "\u001b[?25hRequirement already satisfied: numpy in /usr/local/lib/python3.6/dist-packages (from shap) (1.18.5)\n",
            "Requirement already satisfied: scipy in /usr/local/lib/python3.6/dist-packages (from shap) (1.4.1)\n",
            "Requirement already satisfied: scikit-learn in /usr/local/lib/python3.6/dist-packages (from shap) (0.22.2.post1)\n",
            "Requirement already satisfied: pandas in /usr/local/lib/python3.6/dist-packages (from shap) (1.0.5)\n",
            "Requirement already satisfied: tqdm>4.25.0 in /usr/local/lib/python3.6/dist-packages (from shap) (4.41.1)\n",
            "Requirement already satisfied: joblib>=0.11 in /usr/local/lib/python3.6/dist-packages (from scikit-learn->shap) (0.15.1)\n",
            "Requirement already satisfied: pytz>=2017.2 in /usr/local/lib/python3.6/dist-packages (from pandas->shap) (2018.9)\n",
            "Requirement already satisfied: python-dateutil>=2.6.1 in /usr/local/lib/python3.6/dist-packages (from pandas->shap) (2.8.1)\n",
            "Requirement already satisfied: six>=1.5 in /usr/local/lib/python3.6/dist-packages (from python-dateutil>=2.6.1->pandas->shap) (1.12.0)\n",
            "Building wheels for collected packages: shap\n",
            "  Building wheel for shap (setup.py) ... \u001b[?25l\u001b[?25hdone\n",
            "  Created wheel for shap: filename=shap-0.35.0-cp36-cp36m-linux_x86_64.whl size=394119 sha256=b3a894d6f652cc58b3b274b08ae4d156315fe4cb1f94060d429c6d9b6a30f42e\n",
            "  Stored in directory: /root/.cache/pip/wheels/e7/f7/0f/b57055080cf8894906b3bd3616d2fc2bfd0b12d5161bcb24ac\n",
            "Successfully built shap\n",
            "Installing collected packages: shap\n",
            "Successfully installed shap-0.35.0\n"
          ],
          "name": "stdout"
        }
      ]
    },
    {
      "cell_type": "code",
      "metadata": {
        "id": "7xpNtq_WV0Yp",
        "colab_type": "code",
        "colab": {
          "base_uri": "https://localhost:8080/",
          "height": 326
        },
        "outputId": "2c63d994-d214-4ce0-a300-2e003fbf5421"
      },
      "source": [
        "import shap\n",
        "shap_values = shap.TreeExplainer(xgb_model).shap_values(X_test)\n",
        "shap.summary_plot(shap_values, X_test, plot_type=\"bar\")"
      ],
      "execution_count": 57,
      "outputs": [
        {
          "output_type": "display_data",
          "data": {
            "image/png": "[encoded data removed]",
            "text/plain": [
              "<Figure size 576x338.4 with 1 Axes>"
            ]
          },
          "metadata": {
            "tags": []
          }
        }
      ]
    }
  ]
}